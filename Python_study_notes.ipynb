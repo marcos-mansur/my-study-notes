{
  "nbformat": 4,
  "nbformat_minor": 0,
  "metadata": {
    "colab": {
      "name": "Python study notes.ipynb",
      "provenance": [],
      "toc_visible": true,
      "authorship_tag": "ABX9TyNs12DrMFdwV1zyZaH0P8Ad",
      "include_colab_link": true
    },
    "kernelspec": {
      "name": "python3",
      "display_name": "Python 3"
    },
    "language_info": {
      "name": "python"
    }
  },
  "cells": [
    {
      "cell_type": "markdown",
      "metadata": {
        "id": "view-in-github",
        "colab_type": "text"
      },
      "source": [
        "<a href=\"https://colab.research.google.com/github/marcos-mansur/my-study-notes/blob/main/Python_study_notes.ipynb\" target=\"_parent\"><img src=\"https://colab.research.google.com/assets/colab-badge.svg\" alt=\"Open In Colab\"/></a>"
      ]
    },
    {
      "cell_type": "markdown",
      "metadata": {
        "id": "RC4HMbQpX27M"
      },
      "source": [
        "#Lists\n",
        "\n",
        "\n",
        "\n"
      ]
    },
    {
      "cell_type": "code",
      "metadata": {
        "id": "SFtLW0_OXy6b"
      },
      "source": [
        "#structure of a list\n",
        "lista = [1,2,3,4,5,6]\n",
        "\n",
        "#lists inside lists are allowed\n",
        "lista2 = [[1,2,3],[4,5,6],[7,8,9]]"
      ],
      "execution_count": null,
      "outputs": []
    },
    {
      "cell_type": "markdown",
      "metadata": {
        "id": "vBy2oMT6H7k2"
      },
      "source": [
        "##select data"
      ]
    },
    {
      "cell_type": "code",
      "metadata": {
        "colab": {
          "base_uri": "https://localhost:8080/"
        },
        "id": "fZ3CZ7iYYSC1",
        "outputId": "2e67837b-26aa-42a2-900c-798a5ebc8916"
      },
      "source": [
        "# we can use [index] to consult a specific item from the list\n",
        "lista2[1][2]"
      ],
      "execution_count": null,
      "outputs": [
        {
          "output_type": "execute_result",
          "data": {
            "text/plain": [
              "6"
            ]
          },
          "metadata": {
            "tags": []
          },
          "execution_count": 6
        }
      ]
    },
    {
      "cell_type": "code",
      "metadata": {
        "colab": {
          "base_uri": "https://localhost:8080/"
        },
        "id": "MduKkKWsBTmR",
        "outputId": "ea277c3a-840d-4e1b-a77c-71a3fb18331c"
      },
      "source": [
        "# we can use negative index to reference the end of a list\n",
        "lista2[-2]"
      ],
      "execution_count": null,
      "outputs": [
        {
          "output_type": "execute_result",
          "data": {
            "text/plain": [
              "[4, 5, 6]"
            ]
          },
          "metadata": {
            "tags": []
          },
          "execution_count": 61
        }
      ]
    },
    {
      "cell_type": "markdown",
      "metadata": {
        "id": "5cZfJNCIjVPR"
      },
      "source": [
        "## Slicing lists"
      ]
    },
    {
      "cell_type": "code",
      "metadata": {
        "colab": {
          "base_uri": "https://localhost:8080/"
        },
        "id": "vkDJmnnijuNj",
        "outputId": "bd82eea9-ff3c-4ff9-aca5-f2ca11794bb5"
      },
      "source": [
        "players = ['jorge', 'miguel', 'carolina', 'carlos', 'douglas']\n",
        "\n",
        "#slices are groups of items\n",
        "print(players[1:3])\n",
        "\n",
        "print(players[:3]) #if we omit the first term, it starts at the beginning\n",
        "\n",
        "print(players[2:]) #if we omit the last term, it will go until the end\n",
        "\n",
        "print(players[-2:]) "
      ],
      "execution_count": null,
      "outputs": [
        {
          "output_type": "stream",
          "text": [
            "['miguel', 'carolina']\n",
            "['jorge', 'miguel', 'carolina']\n",
            "['carolina', 'carlos', 'douglas']\n",
            "['carlos', 'douglas']\n"
          ],
          "name": "stdout"
        }
      ]
    },
    {
      "cell_type": "markdown",
      "metadata": {
        "id": "uWOXAAM5H0KO"
      },
      "source": [
        "## add data"
      ]
    },
    {
      "cell_type": "code",
      "metadata": {
        "id": "doTKX4H4bjm_"
      },
      "source": [
        "#the append() function add data to the end of the list\n",
        "lista.append(lista2)\n",
        "lista"
      ],
      "execution_count": null,
      "outputs": []
    },
    {
      "cell_type": "code",
      "metadata": {
        "colab": {
          "base_uri": "https://localhost:8080/"
        },
        "id": "VN7v_UZmEtcP",
        "outputId": "1d302a47-9341-4ace-c9e2-2235b2a31e17"
      },
      "source": [
        "# we can insert data in any position\n",
        "lista.insert(3,27)\n",
        "lista"
      ],
      "execution_count": null,
      "outputs": [
        {
          "output_type": "execute_result",
          "data": {
            "text/plain": [
              "[1, 2, 3, 27, 4, 5, 6]"
            ]
          },
          "metadata": {
            "tags": []
          },
          "execution_count": 67
        }
      ]
    },
    {
      "cell_type": "markdown",
      "metadata": {
        "id": "7CSMmNlDICG9"
      },
      "source": [
        "## remove data"
      ]
    },
    {
      "cell_type": "code",
      "metadata": {
        "colab": {
          "base_uri": "https://localhost:8080/"
        },
        "id": "bj7Q8EioGdgf",
        "outputId": "1b2cd527-e720-4c7e-9d2d-498441bedeb9"
      },
      "source": [
        "#delete data in a list by index\n",
        "del lista[3]\n",
        "lista"
      ],
      "execution_count": null,
      "outputs": [
        {
          "output_type": "execute_result",
          "data": {
            "text/plain": [
              "[1, 2, 3, 4, 5, 6]"
            ]
          },
          "metadata": {
            "tags": []
          },
          "execution_count": 68
        }
      ]
    },
    {
      "cell_type": "code",
      "metadata": {
        "colab": {
          "base_uri": "https://localhost:8080/"
        },
        "id": "_rrQORLmHFZD",
        "outputId": "10c4dee7-74ff-4485-d313-264f11445f42"
      },
      "source": [
        "#cut an item by index\n",
        "popped_lista = lista.pop(3)\n",
        "print(lista)\n",
        "print(popped_lista)"
      ],
      "execution_count": null,
      "outputs": [
        {
          "output_type": "stream",
          "text": [
            "[1, 2, 3, 5, 6]\n",
            "4\n"
          ],
          "name": "stdout"
        }
      ]
    },
    {
      "cell_type": "code",
      "metadata": {
        "colab": {
          "base_uri": "https://localhost:8080/"
        },
        "id": "rO2XbGDmte2v",
        "outputId": "cb2321c2-a994-4823-f95f-7942860cfc38"
      },
      "source": [
        "#remove() can remove an item by value, but only the first ocurrency. A for-loop can work around this\n",
        "lista1 = ['carro', 'cachorro', 'moto', 'bike', 'cachorro', 'onibus', 'cachorro']\n",
        "c = 'cachorro'\n",
        "for x in lista1:\n",
        "  if c in lista1:\n",
        "    lista1.remove('cachorro')\n",
        "\n",
        "lista1"
      ],
      "execution_count": null,
      "outputs": [
        {
          "output_type": "execute_result",
          "data": {
            "text/plain": [
              "['carro', 'moto', 'bike', 'onibus']"
            ]
          },
          "metadata": {
            "tags": []
          },
          "execution_count": 103
        }
      ]
    },
    {
      "cell_type": "markdown",
      "metadata": {
        "id": "xZXgqa1pLhDG"
      },
      "source": [
        "##Sort the list"
      ]
    },
    {
      "cell_type": "code",
      "metadata": {
        "colab": {
          "base_uri": "https://localhost:8080/"
        },
        "id": "QiewsklSLioT",
        "outputId": "601e005f-5667-4a19-a176-1c9a99faa0de"
      },
      "source": [
        "#sort() method sorts a list permanently \n",
        "lista1.sort(reverse=True)\n",
        "print(lista1)\n",
        "\n",
        "#reverse() reverses the original order, but doesn't sort"
      ],
      "execution_count": null,
      "outputs": [
        {
          "output_type": "execute_result",
          "data": {
            "text/plain": [
              "['onibus', 'moto', 'carro', 'bike']"
            ]
          },
          "metadata": {
            "tags": []
          },
          "execution_count": 83
        }
      ]
    },
    {
      "cell_type": "code",
      "metadata": {
        "colab": {
          "base_uri": "https://localhost:8080/"
        },
        "id": "0QE39YGKL-1q",
        "outputId": "05dbf077-6357-41ab-ea2f-800e0ea8c519"
      },
      "source": [
        "#sorted() method sorts a list for display but doesn't affect the object\n",
        "print(sorted(lista1))"
      ],
      "execution_count": null,
      "outputs": [
        {
          "output_type": "stream",
          "text": [
            "['bike', 'carro', 'moto', 'onibus']\n"
          ],
          "name": "stdout"
        }
      ]
    },
    {
      "cell_type": "markdown",
      "metadata": {
        "id": "e-2_CTbWgIKn"
      },
      "source": [
        "##Making numerical lists"
      ]
    },
    {
      "cell_type": "code",
      "metadata": {
        "colab": {
          "base_uri": "https://localhost:8080/"
        },
        "id": "Vcn4mXMVfSxn",
        "outputId": "8ff84f2e-9d4e-4440-89c5-f3b633d8b2f8"
      },
      "source": [
        "lista5 = list(range(2,9))\n",
        "print(lista5)\n",
        "\n",
        "lista6 = list(range(5,26,3))\n",
        "print(lista6)"
      ],
      "execution_count": null,
      "outputs": [
        {
          "output_type": "stream",
          "text": [
            "[2, 3, 4, 5, 6, 7, 8]\n",
            "[5, 8, 11, 14, 17, 20, 23]\n"
          ],
          "name": "stdout"
        }
      ]
    },
    {
      "cell_type": "markdown",
      "metadata": {
        "id": "dwFl9u5BmVW1"
      },
      "source": [
        "##Copying a list"
      ]
    },
    {
      "cell_type": "code",
      "metadata": {
        "colab": {
          "base_uri": "https://localhost:8080/"
        },
        "id": "8bukUtHImaUU",
        "outputId": "87fdea38-2f80-4645-ae2f-82daa6faa31b"
      },
      "source": [
        "lista_x = ['feijão', 'batata', 'brócolis', 'couve', 'couve-flor']\n",
        "\n",
        "# the following line of code doesn't make a copy of lista_x. \n",
        "# Insetead, it tells python to associate \"lista_z\" with the same list that \"lista_x\" is associated to\n",
        "lista_z = lista_x      #so now, both variables points to the same list\n",
        "\n",
        "\n",
        "lista_x.append('cenoura')\n",
        "\n",
        "print(lista_z)"
      ],
      "execution_count": null,
      "outputs": [
        {
          "output_type": "stream",
          "text": [
            "['feijão', 'batata', 'brócolis', 'couve', 'couve-flor', 'cenoura']\n"
          ],
          "name": "stdout"
        }
      ]
    },
    {
      "cell_type": "code",
      "metadata": {
        "id": "OvYL1Njhno0a"
      },
      "source": [
        "# for actually copying a list, we need to use a slice\n",
        "lista_z = lista_x[:]"
      ],
      "execution_count": null,
      "outputs": []
    },
    {
      "cell_type": "markdown",
      "metadata": {
        "id": "3mrreou08BwU"
      },
      "source": [
        "#Set\n",
        "a set is a collection in which each item must be unique\n"
      ]
    },
    {
      "cell_type": "code",
      "metadata": {
        "colab": {
          "base_uri": "https://localhost:8080/"
        },
        "id": "Bnx13nAu8FHw",
        "outputId": "03be46c9-d743-4610-c159-04d7d26259d5"
      },
      "source": [
        "lista7 = ['cachorro', 'cavalo', 'cachorro', 'gato']\n",
        "\n",
        "#set() method returns unique values\n",
        "print(set(lista7))"
      ],
      "execution_count": null,
      "outputs": [
        {
          "output_type": "stream",
          "text": [
            "{'cachorro', 'cavalo', 'gato'}\n"
          ],
          "name": "stdout"
        }
      ]
    },
    {
      "cell_type": "code",
      "metadata": {
        "colab": {
          "base_uri": "https://localhost:8080/"
        },
        "id": "ZrDfK2Hh88wc",
        "outputId": "4f5011d8-1860-464c-e508-6e6af7deae01"
      },
      "source": [
        "# a set can be defined by {} separetad by commas\n",
        "\n",
        "set1 = {'cachorro', 'cavalo', 'cachorro', 'gato'}\n",
        "set1"
      ],
      "execution_count": null,
      "outputs": [
        {
          "output_type": "execute_result",
          "data": {
            "text/plain": [
              "{'cachorro', 'cavalo', 'gato'}"
            ]
          },
          "metadata": {
            "tags": []
          },
          "execution_count": 128
        }
      ]
    },
    {
      "cell_type": "markdown",
      "metadata": {
        "id": "U_QB6LC1tznW"
      },
      "source": [
        "#List Comprehension"
      ]
    },
    {
      "cell_type": "code",
      "metadata": {
        "colab": {
          "base_uri": "https://localhost:8080/"
        },
        "id": "EYfNAm6euHY_",
        "outputId": "882bcfc6-e7e4-45e2-8d77-60a96f35f68b"
      },
      "source": [
        "mph2 = [x*0.62 for x in kmh]\n",
        "print(mph2)"
      ],
      "execution_count": null,
      "outputs": [
        {
          "output_type": "stream",
          "text": [
            "[14.26, 3.1, 33.48, 53.94, 2.48, 16.12, 52.7, 283.96, 15.5, 358.36, 58.28]\n"
          ],
          "name": "stdout"
        }
      ]
    },
    {
      "cell_type": "code",
      "metadata": {
        "colab": {
          "base_uri": "https://localhost:8080/"
        },
        "id": "RFzDtAkbCy0t",
        "outputId": "736f5587-7e73-45a8-860c-a348d6e03469"
      },
      "source": [
        "caracteres = [x for x in \"Coe, Rapaziada\"]\n",
        "print(caracteres)"
      ],
      "execution_count": null,
      "outputs": [
        {
          "output_type": "stream",
          "text": [
            "['C', 'o', 'e', ',', ' ', 'R', 'a', 'p', 'a', 'z', 'i', 'a', 'd', 'a']\n"
          ],
          "name": "stdout"
        }
      ]
    },
    {
      "cell_type": "code",
      "metadata": {
        "id": "3BISkNTljZbt"
      },
      "source": [
        ""
      ],
      "execution_count": null,
      "outputs": []
    },
    {
      "cell_type": "markdown",
      "metadata": {
        "id": "PAKW6HpgYGzK"
      },
      "source": [
        "\n",
        "#Type"
      ]
    },
    {
      "cell_type": "code",
      "metadata": {
        "colab": {
          "base_uri": "https://localhost:8080/"
        },
        "id": "h2-KRydGYJdh",
        "outputId": "96385556-05f5-48a4-cc24-5bd74efab446"
      },
      "source": [
        "type(lista2)"
      ],
      "execution_count": null,
      "outputs": [
        {
          "output_type": "execute_result",
          "data": {
            "text/plain": [
              "list"
            ]
          },
          "metadata": {
            "tags": []
          },
          "execution_count": 7
        }
      ]
    },
    {
      "cell_type": "code",
      "metadata": {
        "colab": {
          "base_uri": "https://localhost:8080/"
        },
        "id": "1v60NxGJY4e6",
        "outputId": "7c951736-1d84-40e4-d638-40b64aeb1dbc"
      },
      "source": [
        "#transforming int in float\n",
        "float(lista2[2][1])\n"
      ],
      "execution_count": null,
      "outputs": [
        {
          "output_type": "execute_result",
          "data": {
            "text/plain": [
              "8.0"
            ]
          },
          "metadata": {
            "tags": []
          },
          "execution_count": 8
        }
      ]
    },
    {
      "cell_type": "code",
      "metadata": {
        "colab": {
          "base_uri": "https://localhost:8080/"
        },
        "id": "CC5oYDXFZCvG",
        "outputId": "cd867731-8a31-4706-b56d-bc4d9971cc20"
      },
      "source": [
        "#transforming float in int\n",
        "int(lista2[2][1])"
      ],
      "execution_count": null,
      "outputs": [
        {
          "output_type": "execute_result",
          "data": {
            "text/plain": [
              "8"
            ]
          },
          "metadata": {
            "tags": []
          },
          "execution_count": 9
        }
      ]
    },
    {
      "cell_type": "code",
      "metadata": {
        "colab": {
          "base_uri": "https://localhost:8080/"
        },
        "id": "TnQeSzE8ZE7m",
        "outputId": "65f6f4b0-c8a2-4185-8155-bae203e30201"
      },
      "source": [
        "#transforming the whole list into float\n",
        "lista3 = [2, 4 , 10, 6]\n",
        "c=0\n",
        "\n",
        "for item in lista3:\n",
        "  lista3[c] = float(item)\n",
        "  c += 1\n",
        "\n",
        "lista3"
      ],
      "execution_count": null,
      "outputs": [
        {
          "output_type": "execute_result",
          "data": {
            "text/plain": [
              "[2.0, 4.0, 10.0, 6.0]"
            ]
          },
          "metadata": {
            "tags": []
          },
          "execution_count": 30
        }
      ]
    },
    {
      "cell_type": "code",
      "metadata": {
        "colab": {
          "base_uri": "https://localhost:8080/"
        },
        "id": "0iMYYe40fBKj",
        "outputId": "81caa28e-6b84-45d2-ef0f-dc8e17398904"
      },
      "source": [
        "#transforming the whole list into float\n",
        "lista4 = [2, 4 , 10, 6]\n",
        "lista5 = []\n",
        "for y in lista4:\n",
        "    lista5.append(float(y))\n",
        "\n",
        "print(lista5)"
      ],
      "execution_count": null,
      "outputs": [
        {
          "output_type": "stream",
          "text": [
            "[2.0, 4.0, 10.0, 6.0]\n"
          ],
          "name": "stdout"
        }
      ]
    },
    {
      "cell_type": "markdown",
      "metadata": {
        "id": "NHmWMpE4gGVf"
      },
      "source": [
        "#Tuple"
      ]
    },
    {
      "cell_type": "markdown",
      "metadata": {
        "id": "4CoJZqUegtV4"
      },
      "source": [
        "Tuples are immutable lists, they doesn't support item assignment"
      ]
    },
    {
      "cell_type": "code",
      "metadata": {
        "colab": {
          "base_uri": "https://localhost:8080/"
        },
        "id": "vbIsvE60gr_0",
        "outputId": "d17701a6-585c-4f51-9405-d42af3e2fdaf"
      },
      "source": [
        "#structure of a tuple\n",
        "tupla = (6,2,5)\n",
        "tupla[2]"
      ],
      "execution_count": null,
      "outputs": [
        {
          "output_type": "execute_result",
          "data": {
            "text/plain": [
              "5"
            ]
          },
          "metadata": {
            "tags": []
          },
          "execution_count": 35
        }
      ]
    },
    {
      "cell_type": "code",
      "metadata": {
        "id": "7d2AN8TMhD5Q"
      },
      "source": [
        "#permanent data, does not support item assigment nor deletion\n",
        "tupla[2] = 30\n",
        "del tupla[2]"
      ],
      "execution_count": null,
      "outputs": []
    },
    {
      "cell_type": "code",
      "metadata": {
        "colab": {
          "base_uri": "https://localhost:8080/"
        },
        "id": "SH62TJgahHdS",
        "outputId": "a099b8a4-a62c-4199-bdef-50a838af6758"
      },
      "source": [
        "#transforming lists into tuple\n",
        "tupla2 = tuple(lista4)\n",
        "print(tupla2)\n",
        "type(tupla2)"
      ],
      "execution_count": null,
      "outputs": [
        {
          "output_type": "stream",
          "text": [
            "(2, 4, 20, 6)\n"
          ],
          "name": "stdout"
        },
        {
          "output_type": "execute_result",
          "data": {
            "text/plain": [
              "tuple"
            ]
          },
          "metadata": {
            "tags": []
          },
          "execution_count": 44
        }
      ]
    },
    {
      "cell_type": "code",
      "metadata": {
        "colab": {
          "base_uri": "https://localhost:8080/"
        },
        "id": "0GtIuFKoiWfE",
        "outputId": "e0409553-932d-485c-b8d9-f630d07760ea"
      },
      "source": [
        "#for python to identify a tuple, there must be at least a comma in the parenteses\n",
        "tupla3 = (3)\n",
        "print(type(tupla3))\n",
        "\n",
        "tupla4 = (3,)\n",
        "print(type(tupla4)"
      ],
      "execution_count": null,
      "outputs": [
        {
          "output_type": "stream",
          "text": [
            "<class 'int'>\n",
            "<class 'tuple'>\n"
          ],
          "name": "stdout"
        }
      ]
    },
    {
      "cell_type": "markdown",
      "metadata": {
        "id": "7dBPQ_Xdjf33"
      },
      "source": [
        "#Data Dictionary"
      ]
    },
    {
      "cell_type": "code",
      "metadata": {
        "id": "jc7EPzp_jjEx"
      },
      "source": [
        "#structure of  dictionary \n",
        "# -> dicionario = {key:value}\n",
        "\n",
        "dicionario = {'nome' : 'Marcos',\n",
        "              'telefone' : '21 991069273',\n",
        "              'endereço':'Rua Jorge Jose Duayer',\n",
        "              'apagar' : 'apagar essa linha'}"
      ],
      "execution_count": null,
      "outputs": []
    },
    {
      "cell_type": "code",
      "metadata": {
        "id": "JKxbDC7anmvS",
        "colab": {
          "base_uri": "https://localhost:8080/",
          "height": 35
        },
        "outputId": "ae96c12b-9232-4ae5-b446-d0ec7d234593"
      },
      "source": [
        "dicionario['nome']"
      ],
      "execution_count": null,
      "outputs": [
        {
          "output_type": "execute_result",
          "data": {
            "application/vnd.google.colaboratory.intrinsic+json": {
              "type": "string"
            },
            "text/plain": [
              "'Marcos'"
            ]
          },
          "metadata": {
            "tags": []
          },
          "execution_count": 3
        }
      ]
    },
    {
      "cell_type": "code",
      "metadata": {
        "colab": {
          "base_uri": "https://localhost:8080/"
        },
        "id": "XHURKPZalsvy",
        "outputId": "45f6723e-eafd-4429-ce66-522338d3a7a8"
      },
      "source": [
        "print(\"as chaves são:\", dicionario.keys())\n",
        "print(\"os valores são:\", dicionario.values())\n",
        "print(\"o dicionário contém:\", dicionario.items())"
      ],
      "execution_count": null,
      "outputs": [
        {
          "output_type": "stream",
          "text": [
            "as chaves são: dict_keys(['nome', 'telefone', 'endereço'])\n",
            "os valores são: dict_values(['Marcos', '21 991069273', 'Rua Jorge Jose Duayer'])\n",
            "o dicionário contém: dict_items([('nome', 'Marcos'), ('telefone', '21 991069273'), ('endereço', 'Rua Jorge Jose Duayer')])\n"
          ],
          "name": "stdout"
        }
      ]
    },
    {
      "cell_type": "markdown",
      "metadata": {
        "id": "ibFoKnLQc1Oy"
      },
      "source": [
        "##Select data"
      ]
    },
    {
      "cell_type": "code",
      "metadata": {
        "colab": {
          "base_uri": "https://localhost:8080/"
        },
        "id": "EpDxQBeWmkkR",
        "outputId": "6febbaa5-bef4-4342-a179-b3596c651705"
      },
      "source": [
        "#select data\n",
        "endereco = dicionario['endereço']\n",
        "print(endereco)"
      ],
      "execution_count": null,
      "outputs": [
        {
          "output_type": "stream",
          "text": [
            "Rua Jorge Jose Duayer\n"
          ],
          "name": "stdout"
        }
      ]
    },
    {
      "cell_type": "code",
      "metadata": {
        "colab": {
          "base_uri": "https://localhost:8080/"
        },
        "id": "aXcBqn0M5bRS",
        "outputId": "a17bfacb-fac6-4bef-e522-94b9f4645860"
      },
      "source": [
        "#looping through all values of a dictionary\n",
        "for key, value in dicionario.items():\n",
        "    print(key.title(),':',value.upper())"
      ],
      "execution_count": null,
      "outputs": [
        {
          "output_type": "stream",
          "text": [
            "Nome : MARCOS\n",
            "Telefone : 21 991069273\n",
            "Endereço : RUA JORGE JOSE DUAYER\n",
            "Cor Favorita : PRETO\n"
          ],
          "name": "stdout"
        }
      ]
    },
    {
      "cell_type": "markdown",
      "metadata": {
        "id": "Gw7wrLIFc5sc"
      },
      "source": [
        "## Add data"
      ]
    },
    {
      "cell_type": "code",
      "metadata": {
        "id": "-s7l-7NTlzTp"
      },
      "source": [
        "#adding data into a dictionary\n",
        "dicionario['cor favorita'] = 'preto'"
      ],
      "execution_count": null,
      "outputs": []
    },
    {
      "cell_type": "markdown",
      "metadata": {
        "id": "UN_vAKugc8wP"
      },
      "source": [
        "##Delete data"
      ]
    },
    {
      "cell_type": "code",
      "metadata": {
        "id": "JdjpvjLJmDNl"
      },
      "source": [
        "#deleting all data in a dictionary\n",
        "dicionario.clear()"
      ],
      "execution_count": null,
      "outputs": []
    },
    {
      "cell_type": "code",
      "metadata": {
        "colab": {
          "base_uri": "https://localhost:8080/"
        },
        "id": "dvSSU91q1BT6",
        "outputId": "aee16ae3-1cde-4067-9b53-96b86f3eee0f"
      },
      "source": [
        "#delete a key:value pair\n",
        "del dicionario['apagar']\n",
        "print(dicionario)"
      ],
      "execution_count": null,
      "outputs": [
        {
          "output_type": "stream",
          "text": [
            "{'nome': 'Marcos', 'telefone': '21 991069273', 'endereço': 'Rua Jorge Jose Duayer', 'cor favorita': 'preto'}\n"
          ],
          "name": "stdout"
        }
      ]
    },
    {
      "cell_type": "markdown",
      "metadata": {
        "id": "x-PGmyl8dHHF"
      },
      "source": [
        "## Get()"
      ]
    },
    {
      "cell_type": "code",
      "metadata": {
        "colab": {
          "base_uri": "https://localhost:8080/"
        },
        "id": "Xi5ls5nZ2qTC",
        "outputId": "57d4b058-77fe-4ba1-93d9-e5d90e839669"
      },
      "source": [
        "#the get() method can be useful for when you're not sure if the key you are consulting actually exist\n",
        "carro = dicionario.get('carro', \"sem valor atribuído para carro\")\n",
        "\n",
        "print(carro)"
      ],
      "execution_count": null,
      "outputs": [
        {
          "output_type": "stream",
          "text": [
            "sem valor atribuído para carro\n"
          ],
          "name": "stdout"
        }
      ]
    },
    {
      "cell_type": "code",
      "metadata": {
        "id": "_Uwz6m6hmqxb"
      },
      "source": [
        ""
      ],
      "execution_count": null,
      "outputs": []
    },
    {
      "cell_type": "markdown",
      "metadata": {
        "id": "ABQf3bb8ngE6"
      },
      "source": [
        " # Manipulating strings"
      ]
    },
    {
      "cell_type": "code",
      "metadata": {
        "id": "GNADwbblnjlZ"
      },
      "source": [
        "frase = 'Python é irado'"
      ],
      "execution_count": null,
      "outputs": []
    },
    {
      "cell_type": "code",
      "metadata": {
        "colab": {
          "base_uri": "https://localhost:8080/",
          "height": 35
        },
        "id": "DyX2obNdoPmK",
        "outputId": "bc5a5949-5c84-4ac2-95dd-50e6df24e9c8"
      },
      "source": [
        "# consulting structure [first character : last character : step]\n",
        "frase[5:12:2]"
      ],
      "execution_count": null,
      "outputs": [
        {
          "output_type": "execute_result",
          "data": {
            "application/vnd.google.colaboratory.intrinsic+json": {
              "type": "string"
            },
            "text/plain": [
              "'néia'"
            ]
          },
          "metadata": {
            "tags": []
          },
          "execution_count": 67
        }
      ]
    },
    {
      "cell_type": "code",
      "metadata": {
        "colab": {
          "base_uri": "https://localhost:8080/"
        },
        "id": "8fuMhI_hoSvr",
        "outputId": "e3a30037-fab3-4d42-eeb7-1ce870e20dae"
      },
      "source": [
        "#counting how many 'o' characters there are in frase\n",
        "frase.count('o')"
      ],
      "execution_count": null,
      "outputs": [
        {
          "output_type": "execute_result",
          "data": {
            "text/plain": [
              "2"
            ]
          },
          "metadata": {
            "tags": []
          },
          "execution_count": 70
        }
      ]
    },
    {
      "cell_type": "code",
      "metadata": {
        "colab": {
          "base_uri": "https://localhost:8080/"
        },
        "id": "S_CyOTxdomSd",
        "outputId": "c7b320d9-369e-4b7e-f066-3e2146c6b4e6"
      },
      "source": [
        "len(frase)"
      ],
      "execution_count": null,
      "outputs": [
        {
          "output_type": "execute_result",
          "data": {
            "text/plain": [
              "14"
            ]
          },
          "metadata": {
            "tags": []
          },
          "execution_count": 71
        }
      ]
    },
    {
      "cell_type": "code",
      "metadata": {
        "colab": {
          "base_uri": "https://localhost:8080/",
          "height": 35
        },
        "id": "W24meNGtpAlS",
        "outputId": "7caf9441-794d-49cb-cb2e-409eb74b343c"
      },
      "source": [
        "frase.replace('irado', 'maneiro') #only returns the new value, doesn't replace it in frase"
      ],
      "execution_count": null,
      "outputs": [
        {
          "output_type": "execute_result",
          "data": {
            "application/vnd.google.colaboratory.intrinsic+json": {
              "type": "string"
            },
            "text/plain": [
              "'Python é maneiro'"
            ]
          },
          "metadata": {
            "tags": []
          },
          "execution_count": 72
        }
      ]
    },
    {
      "cell_type": "markdown",
      "metadata": {
        "id": "PkFW3jcJp5p6"
      },
      "source": [
        "#Lambda Function"
      ]
    },
    {
      "cell_type": "markdown",
      "metadata": {
        "id": "JO9c-XCEqvcG"
      },
      "source": [
        "The most general way to create a function is through `def` command"
      ]
    },
    {
      "cell_type": "code",
      "metadata": {
        "id": "2ZdbjSFBp8Rr"
      },
      "source": [
        "def somaQuadrados (a,b):\n",
        "  somaQ = a**2 + b**2\n",
        "  return somaQ"
      ],
      "execution_count": null,
      "outputs": []
    },
    {
      "cell_type": "code",
      "metadata": {
        "colab": {
          "base_uri": "https://localhost:8080/"
        },
        "id": "SNSTqirrqi-p",
        "outputId": "9f8fc5e5-ce92-455c-e130-397d5c7e14bd"
      },
      "source": [
        "somaQuadrados(2,3)"
      ],
      "execution_count": null,
      "outputs": [
        {
          "output_type": "execute_result",
          "data": {
            "text/plain": [
              "13"
            ]
          },
          "metadata": {
            "tags": []
          },
          "execution_count": 79
        }
      ]
    },
    {
      "cell_type": "markdown",
      "metadata": {
        "id": "jJLexxBqq5yS"
      },
      "source": [
        "The Lambda command can create the same function with less coding required"
      ]
    },
    {
      "cell_type": "code",
      "metadata": {
        "id": "agyg10mSqnmw"
      },
      "source": [
        "# structure of labda functions: lambda parameter1, parameter2, parameter3: function\n",
        "somaQuadrados2 = lambda a,b: a**2 + b**2"
      ],
      "execution_count": null,
      "outputs": []
    },
    {
      "cell_type": "code",
      "metadata": {
        "colab": {
          "base_uri": "https://localhost:8080/"
        },
        "id": "Q8avqBK5rJmm",
        "outputId": "e32d5850-3d31-475e-df7a-6cb74d5b20fc"
      },
      "source": [
        "somaQuadrados2(2,3)"
      ],
      "execution_count": null,
      "outputs": [
        {
          "output_type": "execute_result",
          "data": {
            "text/plain": [
              "13"
            ]
          },
          "metadata": {
            "tags": []
          },
          "execution_count": 81
        }
      ]
    },
    {
      "cell_type": "markdown",
      "metadata": {
        "id": "uZT1Wpaxr6va"
      },
      "source": [
        "# MAP()"
      ]
    },
    {
      "cell_type": "markdown",
      "metadata": {
        "id": "xujsKVMJtCAQ"
      },
      "source": [
        "Applies an action to each element in a object"
      ]
    },
    {
      "cell_type": "code",
      "metadata": {
        "colab": {
          "base_uri": "https://localhost:8080/"
        },
        "id": "bScMiJbVtI-J",
        "outputId": "8b98571c-f627-4a75-8ef8-a627071c6a29"
      },
      "source": [
        "kmh = [23,5,54,87,4,26,85,458,25,578,94]\n",
        "\n",
        "#converting km/h to mph\n",
        "mph = list(map(lambda x: x*0.62,kmh))\n",
        "print(mph)"
      ],
      "execution_count": null,
      "outputs": [
        {
          "output_type": "stream",
          "text": [
            "[14.26, 3.1, 33.48, 53.94, 2.48, 16.12, 52.7, 283.96, 15.5, 358.36, 58.28]\n"
          ],
          "name": "stdout"
        }
      ]
    },
    {
      "cell_type": "markdown",
      "metadata": {
        "id": "zcCLmsqvELm_"
      },
      "source": [
        "#Numpy"
      ]
    },
    {
      "cell_type": "code",
      "metadata": {
        "id": "Rqp7USNUEiWv"
      },
      "source": [
        "import numpy as np"
      ],
      "execution_count": null,
      "outputs": []
    },
    {
      "cell_type": "code",
      "metadata": {
        "colab": {
          "base_uri": "https://localhost:8080/"
        },
        "id": "e6BUbf5sFMZc",
        "outputId": "5bea4e8e-30b1-4f3e-fa3a-94159866c9d2"
      },
      "source": [
        "a = np.array([(1,2,3),(4,5,6),(7,8,9)])\n",
        "print(a)"
      ],
      "execution_count": null,
      "outputs": [
        {
          "output_type": "stream",
          "text": [
            "[[1 2 3]\n",
            " [4 5 6]\n",
            " [7 8 9]]\n"
          ],
          "name": "stdout"
        }
      ]
    },
    {
      "cell_type": "code",
      "metadata": {
        "colab": {
          "base_uri": "https://localhost:8080/"
        },
        "id": "__VrdQfhFXKF",
        "outputId": "7b78f03c-a513-49bf-accf-8c976a171aa4"
      },
      "source": [
        "c = np.zeros((4,3))\n",
        "\n",
        "#c = np.ones((4,3))\n",
        "\n",
        "print(c)"
      ],
      "execution_count": null,
      "outputs": [
        {
          "output_type": "stream",
          "text": [
            "[[0. 0. 0.]\n",
            " [0. 0. 0.]\n",
            " [0. 0. 0.]\n",
            " [0. 0. 0.]]\n"
          ],
          "name": "stdout"
        }
      ]
    },
    {
      "cell_type": "code",
      "metadata": {
        "colab": {
          "base_uri": "https://localhost:8080/"
        },
        "id": "A8sn-Po2GPMG",
        "outputId": "bf6d5249-6189-4708-d6c0-c0f1fa80522f"
      },
      "source": [
        "#ID\n",
        "c = np.eye(4)\n",
        "\n",
        "print(c)"
      ],
      "execution_count": null,
      "outputs": [
        {
          "output_type": "stream",
          "text": [
            "[[1. 0. 0. 0.]\n",
            " [0. 1. 0. 0.]\n",
            " [0. 0. 1. 0.]\n",
            " [0. 0. 0. 1.]]\n"
          ],
          "name": "stdout"
        }
      ]
    },
    {
      "cell_type": "code",
      "metadata": {
        "colab": {
          "base_uri": "https://localhost:8080/"
        },
        "id": "AeWdh0fXGsRl",
        "outputId": "10869042-0fc1-4f91-a426-29348a6b983b"
      },
      "source": [
        "a.max()"
      ],
      "execution_count": null,
      "outputs": [
        {
          "output_type": "execute_result",
          "data": {
            "text/plain": [
              "9"
            ]
          },
          "metadata": {
            "tags": []
          },
          "execution_count": 101
        }
      ]
    },
    {
      "cell_type": "code",
      "metadata": {
        "colab": {
          "base_uri": "https://localhost:8080/"
        },
        "id": "wdrMZYuXT6tT",
        "outputId": "fbd962f2-1955-4b1d-8b68-7edfca9993b7"
      },
      "source": [
        "a.min()"
      ],
      "execution_count": null,
      "outputs": [
        {
          "output_type": "execute_result",
          "data": {
            "text/plain": [
              "1"
            ]
          },
          "metadata": {
            "tags": []
          },
          "execution_count": 102
        }
      ]
    },
    {
      "cell_type": "code",
      "metadata": {
        "colab": {
          "base_uri": "https://localhost:8080/"
        },
        "id": "oi6i4g67T75w",
        "outputId": "52be29bc-64e8-43fa-d74d-562e10e1c8e4"
      },
      "source": [
        "a.mean()"
      ],
      "execution_count": null,
      "outputs": [
        {
          "output_type": "execute_result",
          "data": {
            "text/plain": [
              "5.0"
            ]
          },
          "metadata": {
            "tags": []
          },
          "execution_count": 103
        }
      ]
    },
    {
      "cell_type": "code",
      "metadata": {
        "colab": {
          "base_uri": "https://localhost:8080/"
        },
        "id": "0dShCx74T87P",
        "outputId": "6c117d11-7974-4881-ed25-48d076955f3c"
      },
      "source": [
        "a.std()"
      ],
      "execution_count": null,
      "outputs": [
        {
          "output_type": "execute_result",
          "data": {
            "text/plain": [
              "2.581988897471611"
            ]
          },
          "metadata": {
            "tags": []
          },
          "execution_count": 104
        }
      ]
    },
    {
      "cell_type": "markdown",
      "metadata": {
        "id": "OJbBX0NDWVTK"
      },
      "source": [
        "#Opening Files in the notebook"
      ]
    },
    {
      "cell_type": "code",
      "metadata": {
        "id": "km7bVntIT_BG"
      },
      "source": [
        "import pandas as pd"
      ],
      "execution_count": null,
      "outputs": []
    },
    {
      "cell_type": "code",
      "metadata": {
        "id": "TpwK6ZWsWbjJ"
      },
      "source": [
        "df = pd.read_excel('C:/Users/ticom/Downloads/Controde de Estudos.xlsx') #in a local notebook"
      ],
      "execution_count": null,
      "outputs": []
    },
    {
      "cell_type": "code",
      "metadata": {
        "colab": {
          "resources": {
            "http://localhost:8080/nbextensions/google.colab/files.js": {
              "data": "Ly8gQ29weXJpZ2h0IDIwMTcgR29vZ2xlIExMQwovLwovLyBMaWNlbnNlZCB1bmRlciB0aGUgQXBhY2hlIExpY2Vuc2UsIFZlcnNpb24gMi4wICh0aGUgIkxpY2Vuc2UiKTsKLy8geW91IG1heSBub3QgdXNlIHRoaXMgZmlsZSBleGNlcHQgaW4gY29tcGxpYW5jZSB3aXRoIHRoZSBMaWNlbnNlLgovLyBZb3UgbWF5IG9idGFpbiBhIGNvcHkgb2YgdGhlIExpY2Vuc2UgYXQKLy8KLy8gICAgICBodHRwOi8vd3d3LmFwYWNoZS5vcmcvbGljZW5zZXMvTElDRU5TRS0yLjAKLy8KLy8gVW5sZXNzIHJlcXVpcmVkIGJ5IGFwcGxpY2FibGUgbGF3IG9yIGFncmVlZCB0byBpbiB3cml0aW5nLCBzb2Z0d2FyZQovLyBkaXN0cmlidXRlZCB1bmRlciB0aGUgTGljZW5zZSBpcyBkaXN0cmlidXRlZCBvbiBhbiAiQVMgSVMiIEJBU0lTLAovLyBXSVRIT1VUIFdBUlJBTlRJRVMgT1IgQ09ORElUSU9OUyBPRiBBTlkgS0lORCwgZWl0aGVyIGV4cHJlc3Mgb3IgaW1wbGllZC4KLy8gU2VlIHRoZSBMaWNlbnNlIGZvciB0aGUgc3BlY2lmaWMgbGFuZ3VhZ2UgZ292ZXJuaW5nIHBlcm1pc3Npb25zIGFuZAovLyBsaW1pdGF0aW9ucyB1bmRlciB0aGUgTGljZW5zZS4KCi8qKgogKiBAZmlsZW92ZXJ2aWV3IEhlbHBlcnMgZm9yIGdvb2dsZS5jb2xhYiBQeXRob24gbW9kdWxlLgogKi8KKGZ1bmN0aW9uKHNjb3BlKSB7CmZ1bmN0aW9uIHNwYW4odGV4dCwgc3R5bGVBdHRyaWJ1dGVzID0ge30pIHsKICBjb25zdCBlbGVtZW50ID0gZG9jdW1lbnQuY3JlYXRlRWxlbWVudCgnc3BhbicpOwogIGVsZW1lbnQudGV4dENvbnRlbnQgPSB0ZXh0OwogIGZvciAoY29uc3Qga2V5IG9mIE9iamVjdC5rZXlzKHN0eWxlQXR0cmlidXRlcykpIHsKICAgIGVsZW1lbnQuc3R5bGVba2V5XSA9IHN0eWxlQXR0cmlidXRlc1trZXldOwogIH0KICByZXR1cm4gZWxlbWVudDsKfQoKLy8gTWF4IG51bWJlciBvZiBieXRlcyB3aGljaCB3aWxsIGJlIHVwbG9hZGVkIGF0IGEgdGltZS4KY29uc3QgTUFYX1BBWUxPQURfU0laRSA9IDEwMCAqIDEwMjQ7CgpmdW5jdGlvbiBfdXBsb2FkRmlsZXMoaW5wdXRJZCwgb3V0cHV0SWQpIHsKICBjb25zdCBzdGVwcyA9IHVwbG9hZEZpbGVzU3RlcChpbnB1dElkLCBvdXRwdXRJZCk7CiAgY29uc3Qgb3V0cHV0RWxlbWVudCA9IGRvY3VtZW50LmdldEVsZW1lbnRCeUlkKG91dHB1dElkKTsKICAvLyBDYWNoZSBzdGVwcyBvbiB0aGUgb3V0cHV0RWxlbWVudCB0byBtYWtlIGl0IGF2YWlsYWJsZSBmb3IgdGhlIG5leHQgY2FsbAogIC8vIHRvIHVwbG9hZEZpbGVzQ29udGludWUgZnJvbSBQeXRob24uCiAgb3V0cHV0RWxlbWVudC5zdGVwcyA9IHN0ZXBzOwoKICByZXR1cm4gX3VwbG9hZEZpbGVzQ29udGludWUob3V0cHV0SWQpOwp9CgovLyBUaGlzIGlzIHJvdWdobHkgYW4gYXN5bmMgZ2VuZXJhdG9yIChub3Qgc3VwcG9ydGVkIGluIHRoZSBicm93c2VyIHlldCksCi8vIHdoZXJlIHRoZXJlIGFyZSBtdWx0aXBsZSBhc3luY2hyb25vdXMgc3RlcHMgYW5kIHRoZSBQeXRob24gc2lkZSBpcyBnb2luZwovLyB0byBwb2xsIGZvciBjb21wbGV0aW9uIG9mIGVhY2ggc3RlcC4KLy8gVGhpcyB1c2VzIGEgUHJvbWlzZSB0byBibG9jayB0aGUgcHl0aG9uIHNpZGUgb24gY29tcGxldGlvbiBvZiBlYWNoIHN0ZXAsCi8vIHRoZW4gcGFzc2VzIHRoZSByZXN1bHQgb2YgdGhlIHByZXZpb3VzIHN0ZXAgYXMgdGhlIGlucHV0IHRvIHRoZSBuZXh0IHN0ZXAuCmZ1bmN0aW9uIF91cGxvYWRGaWxlc0NvbnRpbnVlKG91dHB1dElkKSB7CiAgY29uc3Qgb3V0cHV0RWxlbWVudCA9IGRvY3VtZW50LmdldEVsZW1lbnRCeUlkKG91dHB1dElkKTsKICBjb25zdCBzdGVwcyA9IG91dHB1dEVsZW1lbnQuc3RlcHM7CgogIGNvbnN0IG5leHQgPSBzdGVwcy5uZXh0KG91dHB1dEVsZW1lbnQubGFzdFByb21pc2VWYWx1ZSk7CiAgcmV0dXJuIFByb21pc2UucmVzb2x2ZShuZXh0LnZhbHVlLnByb21pc2UpLnRoZW4oKHZhbHVlKSA9PiB7CiAgICAvLyBDYWNoZSB0aGUgbGFzdCBwcm9taXNlIHZhbHVlIHRvIG1ha2UgaXQgYXZhaWxhYmxlIHRvIHRoZSBuZXh0CiAgICAvLyBzdGVwIG9mIHRoZSBnZW5lcmF0b3IuCiAgICBvdXRwdXRFbGVtZW50Lmxhc3RQcm9taXNlVmFsdWUgPSB2YWx1ZTsKICAgIHJldHVybiBuZXh0LnZhbHVlLnJlc3BvbnNlOwogIH0pOwp9CgovKioKICogR2VuZXJhdG9yIGZ1bmN0aW9uIHdoaWNoIGlzIGNhbGxlZCBiZXR3ZWVuIGVhY2ggYXN5bmMgc3RlcCBvZiB0aGUgdXBsb2FkCiAqIHByb2Nlc3MuCiAqIEBwYXJhbSB7c3RyaW5nfSBpbnB1dElkIEVsZW1lbnQgSUQgb2YgdGhlIGlucHV0IGZpbGUgcGlja2VyIGVsZW1lbnQuCiAqIEBwYXJhbSB7c3RyaW5nfSBvdXRwdXRJZCBFbGVtZW50IElEIG9mIHRoZSBvdXRwdXQgZGlzcGxheS4KICogQHJldHVybiB7IUl0ZXJhYmxlPCFPYmplY3Q+fSBJdGVyYWJsZSBvZiBuZXh0IHN0ZXBzLgogKi8KZnVuY3Rpb24qIHVwbG9hZEZpbGVzU3RlcChpbnB1dElkLCBvdXRwdXRJZCkgewogIGNvbnN0IGlucHV0RWxlbWVudCA9IGRvY3VtZW50LmdldEVsZW1lbnRCeUlkKGlucHV0SWQpOwogIGlucHV0RWxlbWVudC5kaXNhYmxlZCA9IGZhbHNlOwoKICBjb25zdCBvdXRwdXRFbGVtZW50ID0gZG9jdW1lbnQuZ2V0RWxlbWVudEJ5SWQob3V0cHV0SWQpOwogIG91dHB1dEVsZW1lbnQuaW5uZXJIVE1MID0gJyc7CgogIGNvbnN0IHBpY2tlZFByb21pc2UgPSBuZXcgUHJvbWlzZSgocmVzb2x2ZSkgPT4gewogICAgaW5wdXRFbGVtZW50LmFkZEV2ZW50TGlzdGVuZXIoJ2NoYW5nZScsIChlKSA9PiB7CiAgICAgIHJlc29sdmUoZS50YXJnZXQuZmlsZXMpOwogICAgfSk7CiAgfSk7CgogIGNvbnN0IGNhbmNlbCA9IGRvY3VtZW50LmNyZWF0ZUVsZW1lbnQoJ2J1dHRvbicpOwogIGlucHV0RWxlbWVudC5wYXJlbnRFbGVtZW50LmFwcGVuZENoaWxkKGNhbmNlbCk7CiAgY2FuY2VsLnRleHRDb250ZW50ID0gJ0NhbmNlbCB1cGxvYWQnOwogIGNvbnN0IGNhbmNlbFByb21pc2UgPSBuZXcgUHJvbWlzZSgocmVzb2x2ZSkgPT4gewogICAgY2FuY2VsLm9uY2xpY2sgPSAoKSA9PiB7CiAgICAgIHJlc29sdmUobnVsbCk7CiAgICB9OwogIH0pOwoKICAvLyBXYWl0IGZvciB0aGUgdXNlciB0byBwaWNrIHRoZSBmaWxlcy4KICBjb25zdCBmaWxlcyA9IHlpZWxkIHsKICAgIHByb21pc2U6IFByb21pc2UucmFjZShbcGlja2VkUHJvbWlzZSwgY2FuY2VsUHJvbWlzZV0pLAogICAgcmVzcG9uc2U6IHsKICAgICAgYWN0aW9uOiAnc3RhcnRpbmcnLAogICAgfQogIH07CgogIGNhbmNlbC5yZW1vdmUoKTsKCiAgLy8gRGlzYWJsZSB0aGUgaW5wdXQgZWxlbWVudCBzaW5jZSBmdXJ0aGVyIHBpY2tzIGFyZSBub3QgYWxsb3dlZC4KICBpbnB1dEVsZW1lbnQuZGlzYWJsZWQgPSB0cnVlOwoKICBpZiAoIWZpbGVzKSB7CiAgICByZXR1cm4gewogICAgICByZXNwb25zZTogewogICAgICAgIGFjdGlvbjogJ2NvbXBsZXRlJywKICAgICAgfQogICAgfTsKICB9CgogIGZvciAoY29uc3QgZmlsZSBvZiBmaWxlcykgewogICAgY29uc3QgbGkgPSBkb2N1bWVudC5jcmVhdGVFbGVtZW50KCdsaScpOwogICAgbGkuYXBwZW5kKHNwYW4oZmlsZS5uYW1lLCB7Zm9udFdlaWdodDogJ2JvbGQnfSkpOwogICAgbGkuYXBwZW5kKHNwYW4oCiAgICAgICAgYCgke2ZpbGUudHlwZSB8fCAnbi9hJ30pIC0gJHtmaWxlLnNpemV9IGJ5dGVzLCBgICsKICAgICAgICBgbGFzdCBtb2RpZmllZDogJHsKICAgICAgICAgICAgZmlsZS5sYXN0TW9kaWZpZWREYXRlID8gZmlsZS5sYXN0TW9kaWZpZWREYXRlLnRvTG9jYWxlRGF0ZVN0cmluZygpIDoKICAgICAgICAgICAgICAgICAgICAgICAgICAgICAgICAgICAgJ24vYSd9IC0gYCkpOwogICAgY29uc3QgcGVyY2VudCA9IHNwYW4oJzAlIGRvbmUnKTsKICAgIGxpLmFwcGVuZENoaWxkKHBlcmNlbnQpOwoKICAgIG91dHB1dEVsZW1lbnQuYXBwZW5kQ2hpbGQobGkpOwoKICAgIGNvbnN0IGZpbGVEYXRhUHJvbWlzZSA9IG5ldyBQcm9taXNlKChyZXNvbHZlKSA9PiB7CiAgICAgIGNvbnN0IHJlYWRlciA9IG5ldyBGaWxlUmVhZGVyKCk7CiAgICAgIHJlYWRlci5vbmxvYWQgPSAoZSkgPT4gewogICAgICAgIHJlc29sdmUoZS50YXJnZXQucmVzdWx0KTsKICAgICAgfTsKICAgICAgcmVhZGVyLnJlYWRBc0FycmF5QnVmZmVyKGZpbGUpOwogICAgfSk7CiAgICAvLyBXYWl0IGZvciB0aGUgZGF0YSB0byBiZSByZWFkeS4KICAgIGxldCBmaWxlRGF0YSA9IHlpZWxkIHsKICAgICAgcHJvbWlzZTogZmlsZURhdGFQcm9taXNlLAogICAgICByZXNwb25zZTogewogICAgICAgIGFjdGlvbjogJ2NvbnRpbnVlJywKICAgICAgfQogICAgfTsKCiAgICAvLyBVc2UgYSBjaHVua2VkIHNlbmRpbmcgdG8gYXZvaWQgbWVzc2FnZSBzaXplIGxpbWl0cy4gU2VlIGIvNjIxMTU2NjAuCiAgICBsZXQgcG9zaXRpb24gPSAwOwogICAgZG8gewogICAgICBjb25zdCBsZW5ndGggPSBNYXRoLm1pbihmaWxlRGF0YS5ieXRlTGVuZ3RoIC0gcG9zaXRpb24sIE1BWF9QQVlMT0FEX1NJWkUpOwogICAgICBjb25zdCBjaHVuayA9IG5ldyBVaW50OEFycmF5KGZpbGVEYXRhLCBwb3NpdGlvbiwgbGVuZ3RoKTsKICAgICAgcG9zaXRpb24gKz0gbGVuZ3RoOwoKICAgICAgY29uc3QgYmFzZTY0ID0gYnRvYShTdHJpbmcuZnJvbUNoYXJDb2RlLmFwcGx5KG51bGwsIGNodW5rKSk7CiAgICAgIHlpZWxkIHsKICAgICAgICByZXNwb25zZTogewogICAgICAgICAgYWN0aW9uOiAnYXBwZW5kJywKICAgICAgICAgIGZpbGU6IGZpbGUubmFtZSwKICAgICAgICAgIGRhdGE6IGJhc2U2NCwKICAgICAgICB9LAogICAgICB9OwoKICAgICAgbGV0IHBlcmNlbnREb25lID0gZmlsZURhdGEuYnl0ZUxlbmd0aCA9PT0gMCA/CiAgICAgICAgICAxMDAgOgogICAgICAgICAgTWF0aC5yb3VuZCgocG9zaXRpb24gLyBmaWxlRGF0YS5ieXRlTGVuZ3RoKSAqIDEwMCk7CiAgICAgIHBlcmNlbnQudGV4dENvbnRlbnQgPSBgJHtwZXJjZW50RG9uZX0lIGRvbmVgOwoKICAgIH0gd2hpbGUgKHBvc2l0aW9uIDwgZmlsZURhdGEuYnl0ZUxlbmd0aCk7CiAgfQoKICAvLyBBbGwgZG9uZS4KICB5aWVsZCB7CiAgICByZXNwb25zZTogewogICAgICBhY3Rpb246ICdjb21wbGV0ZScsCiAgICB9CiAgfTsKfQoKc2NvcGUuZ29vZ2xlID0gc2NvcGUuZ29vZ2xlIHx8IHt9OwpzY29wZS5nb29nbGUuY29sYWIgPSBzY29wZS5nb29nbGUuY29sYWIgfHwge307CnNjb3BlLmdvb2dsZS5jb2xhYi5fZmlsZXMgPSB7CiAgX3VwbG9hZEZpbGVzLAogIF91cGxvYWRGaWxlc0NvbnRpbnVlLAp9Owp9KShzZWxmKTsK",
              "ok": true,
              "headers": [
                [
                  "content-type",
                  "application/javascript"
                ]
              ],
              "status": 200,
              "status_text": ""
            }
          },
          "base_uri": "https://localhost:8080/",
          "height": 89
        },
        "id": "Ecj1lI3BWuXN",
        "outputId": "ffda4d28-0547-4cdd-d901-f255891f1772"
      },
      "source": [
        "from google.colab import files\n",
        "import io\n",
        "\n",
        "uploaded = files.upload()\n",
        "df1 = pd.read_excel(io.BytesIO(uploaded['Controle de Estudos.xlsx']),header=1)"
      ],
      "execution_count": null,
      "outputs": [
        {
          "output_type": "display_data",
          "data": {
            "text/html": [
              "\n",
              "     <input type=\"file\" id=\"files-2b9c95e7-4e57-4a7f-91e3-33388686e42e\" name=\"files[]\" multiple disabled\n",
              "        style=\"border:none\" />\n",
              "     <output id=\"result-2b9c95e7-4e57-4a7f-91e3-33388686e42e\">\n",
              "      Upload widget is only available when the cell has been executed in the\n",
              "      current browser session. Please rerun this cell to enable.\n",
              "      </output>\n",
              "      <script src=\"/nbextensions/google.colab/files.js\"></script> "
            ],
            "text/plain": [
              "<IPython.core.display.HTML object>"
            ]
          },
          "metadata": {
            "tags": []
          }
        },
        {
          "output_type": "stream",
          "text": [
            "Saving Controle de Estudos.xlsx to Controle de Estudos (3).xlsx\n"
          ],
          "name": "stdout"
        }
      ]
    },
    {
      "cell_type": "code",
      "metadata": {
        "colab": {
          "base_uri": "https://localhost:8080/",
          "height": 281
        },
        "id": "SVg8WXgiyK3e",
        "outputId": "af7aa78a-8cc0-4dad-e163-e1cc27c06214"
      },
      "source": [
        "df1.head(2)"
      ],
      "execution_count": null,
      "outputs": [
        {
          "output_type": "execute_result",
          "data": {
            "text/html": [
              "<div>\n",
              "<style scoped>\n",
              "    .dataframe tbody tr th:only-of-type {\n",
              "        vertical-align: middle;\n",
              "    }\n",
              "\n",
              "    .dataframe tbody tr th {\n",
              "        vertical-align: top;\n",
              "    }\n",
              "\n",
              "    .dataframe thead th {\n",
              "        text-align: right;\n",
              "    }\n",
              "</style>\n",
              "<table border=\"1\" class=\"dataframe\">\n",
              "  <thead>\n",
              "    <tr style=\"text-align: right;\">\n",
              "      <th></th>\n",
              "      <th>Dia</th>\n",
              "      <th>Hora de início</th>\n",
              "      <th>Hora de fim</th>\n",
              "      <th>Retomada 1</th>\n",
              "      <th>Fim da Retomada 1</th>\n",
              "      <th>Retomada 2</th>\n",
              "      <th>Fim do dia</th>\n",
              "      <th>Conteúdo estudado</th>\n",
              "      <th>Soma de horas</th>\n",
              "      <th>Planejamento</th>\n",
              "      <th>Unnamed: 10</th>\n",
              "    </tr>\n",
              "  </thead>\n",
              "  <tbody>\n",
              "    <tr>\n",
              "      <th>0</th>\n",
              "      <td>2021-06-08</td>\n",
              "      <td>12:00:00</td>\n",
              "      <td>13:10:00</td>\n",
              "      <td>15:15:00</td>\n",
              "      <td>18:20:00</td>\n",
              "      <td>NaN</td>\n",
              "      <td>NaN</td>\n",
              "      <td>Planejamento; Instalar programas; Seções 1,2 e 3</td>\n",
              "      <td>04:15:00</td>\n",
              "      <td>Banco de dados</td>\n",
              "      <td>O curso completo de Banco de Dados e SQL, sem ...</td>\n",
              "    </tr>\n",
              "    <tr>\n",
              "      <th>1</th>\n",
              "      <td>2021-06-09</td>\n",
              "      <td>14:00:00</td>\n",
              "      <td>15:00:00</td>\n",
              "      <td>01:00:00</td>\n",
              "      <td>03:30:00</td>\n",
              "      <td>NaN</td>\n",
              "      <td>NaN</td>\n",
              "      <td>Operadores lógicos, Null, Update e Delete; Seç...</td>\n",
              "      <td>03:30:00</td>\n",
              "      <td>Banco de dados</td>\n",
              "      <td>O curso completo de Banco de Dados e SQL, sem ...</td>\n",
              "    </tr>\n",
              "  </tbody>\n",
              "</table>\n",
              "</div>"
            ],
            "text/plain": [
              "         Dia  ...                                        Unnamed: 10\n",
              "0 2021-06-08  ...  O curso completo de Banco de Dados e SQL, sem ...\n",
              "1 2021-06-09  ...  O curso completo de Banco de Dados e SQL, sem ...\n",
              "\n",
              "[2 rows x 11 columns]"
            ]
          },
          "metadata": {
            "tags": []
          },
          "execution_count": 119
        }
      ]
    },
    {
      "cell_type": "markdown",
      "metadata": {
        "id": "Nq4VxeSzGNgM"
      },
      "source": [
        "#Pandas"
      ]
    },
    {
      "cell_type": "code",
      "metadata": {
        "id": "ce5XNyW_3YtW"
      },
      "source": [
        "import pandas as pd"
      ],
      "execution_count": null,
      "outputs": []
    },
    {
      "cell_type": "markdown",
      "metadata": {
        "id": "BZ_ZCUERH--t"
      },
      "source": [
        "Pandas allow us to treat information as a dataframe\n"
      ]
    },
    {
      "cell_type": "code",
      "metadata": {
        "colab": {
          "base_uri": "https://localhost:8080/"
        },
        "id": "wIv-_F_hFZ6f",
        "outputId": "9e0bf8f1-dbd7-4d26-9e21-405b803f1677"
      },
      "source": [
        "#creating a dictionary for the example\n",
        "alunos_dic = {'nome': ['ricardo', 'paulo', 'gustavo', 'julia'],\n",
        "              'nota': [4,7,5.5,9],\n",
        "              'aprovado': ['não', 'sim', 'não', 'sim']}\n",
        "print(alunos_dic)"
      ],
      "execution_count": null,
      "outputs": [
        {
          "output_type": "stream",
          "text": [
            "{'nome': ['ricardo', 'paulo', 'gustavo', 'julia'], 'nota': [4, 7, 5.5, 9], 'aprovado': ['não', 'sim', 'não', 'sim']}\n"
          ],
          "name": "stdout"
        }
      ]
    },
    {
      "cell_type": "code",
      "metadata": {
        "id": "LsbgIX6JG2-4"
      },
      "source": [
        "#the method pd.DataFrame() transforms the object into a dataframe\n",
        "alunos_df = pd.DataFrame(alunos_dic)"
      ],
      "execution_count": null,
      "outputs": []
    },
    {
      "cell_type": "code",
      "metadata": {
        "colab": {
          "base_uri": "https://localhost:8080/"
        },
        "id": "PWTlt7m2HPhZ",
        "outputId": "7106a204-d7cd-45fe-d4e9-a0cc106ffd8a"
      },
      "source": [
        "#method pd.Series() create a unidirectional vector with index\n",
        "objeto1 = pd.Series([8,5,4,7,6,75])\n",
        "print(objeto1)"
      ],
      "execution_count": null,
      "outputs": [
        {
          "output_type": "stream",
          "text": [
            "0     8\n",
            "1     5\n",
            "2     4\n",
            "3     7\n",
            "4     6\n",
            "5    75\n",
            "dtype: int64\n"
          ],
          "name": "stdout"
        }
      ]
    },
    {
      "cell_type": "code",
      "metadata": {
        "colab": {
          "base_uri": "https://localhost:8080/"
        },
        "id": "g6uhy2MuIUr3",
        "outputId": "1467a522-e80e-41e0-e231-713c5c07cf64"
      },
      "source": [
        "objeto2 = np.array([1,2.3,9])\n",
        "print('array:',objeto2)\n",
        "\n",
        "#pd.Series() can transform a np.array \n",
        "objeto3 = pd.Series(objeto2)\n",
        "print(\"\"\"\n",
        "serie:\n",
        "\n",
        "\"\"\", objeto3)"
      ],
      "execution_count": null,
      "outputs": [
        {
          "output_type": "stream",
          "text": [
            "array: [1.  2.3 9. ]\n",
            "\n",
            "serie:\n",
            "\n",
            " 0    1.0\n",
            "1    2.3\n",
            "2    9.0\n",
            "dtype: float64\n"
          ],
          "name": "stdout"
        }
      ]
    },
    {
      "cell_type": "code",
      "metadata": {
        "colab": {
          "base_uri": "https://localhost:8080/"
        },
        "id": "O9h--vP3MLm6",
        "outputId": "e96ac5fd-2fdd-49f2-b79d-d305fd34aeda"
      },
      "source": [
        "alunos_df.shape"
      ],
      "execution_count": null,
      "outputs": [
        {
          "output_type": "execute_result",
          "data": {
            "text/plain": [
              "(4, 3)"
            ]
          },
          "metadata": {
            "tags": []
          },
          "execution_count": 8
        }
      ]
    },
    {
      "cell_type": "code",
      "metadata": {
        "id": "fjn0DMeCMPbi",
        "colab": {
          "base_uri": "https://localhost:8080/",
          "height": 297
        },
        "outputId": "7f0dde5c-d07e-4b5a-ae6f-6a7608a8ce7c"
      },
      "source": [
        "alunos_df.describe()"
      ],
      "execution_count": null,
      "outputs": [
        {
          "output_type": "execute_result",
          "data": {
            "text/html": [
              "<div>\n",
              "<style scoped>\n",
              "    .dataframe tbody tr th:only-of-type {\n",
              "        vertical-align: middle;\n",
              "    }\n",
              "\n",
              "    .dataframe tbody tr th {\n",
              "        vertical-align: top;\n",
              "    }\n",
              "\n",
              "    .dataframe thead th {\n",
              "        text-align: right;\n",
              "    }\n",
              "</style>\n",
              "<table border=\"1\" class=\"dataframe\">\n",
              "  <thead>\n",
              "    <tr style=\"text-align: right;\">\n",
              "      <th></th>\n",
              "      <th>nota</th>\n",
              "    </tr>\n",
              "  </thead>\n",
              "  <tbody>\n",
              "    <tr>\n",
              "      <th>count</th>\n",
              "      <td>4.000000</td>\n",
              "    </tr>\n",
              "    <tr>\n",
              "      <th>mean</th>\n",
              "      <td>6.375000</td>\n",
              "    </tr>\n",
              "    <tr>\n",
              "      <th>std</th>\n",
              "      <td>2.136001</td>\n",
              "    </tr>\n",
              "    <tr>\n",
              "      <th>min</th>\n",
              "      <td>4.000000</td>\n",
              "    </tr>\n",
              "    <tr>\n",
              "      <th>25%</th>\n",
              "      <td>5.125000</td>\n",
              "    </tr>\n",
              "    <tr>\n",
              "      <th>50%</th>\n",
              "      <td>6.250000</td>\n",
              "    </tr>\n",
              "    <tr>\n",
              "      <th>75%</th>\n",
              "      <td>7.500000</td>\n",
              "    </tr>\n",
              "    <tr>\n",
              "      <th>max</th>\n",
              "      <td>9.000000</td>\n",
              "    </tr>\n",
              "  </tbody>\n",
              "</table>\n",
              "</div>"
            ],
            "text/plain": [
              "           nota\n",
              "count  4.000000\n",
              "mean   6.375000\n",
              "std    2.136001\n",
              "min    4.000000\n",
              "25%    5.125000\n",
              "50%    6.250000\n",
              "75%    7.500000\n",
              "max    9.000000"
            ]
          },
          "metadata": {
            "tags": []
          },
          "execution_count": 9
        }
      ]
    },
    {
      "cell_type": "code",
      "metadata": {
        "colab": {
          "base_uri": "https://localhost:8080/"
        },
        "id": "KNLCFlpF5rV7",
        "outputId": "6202c342-133a-4dfc-929c-991e006021a0"
      },
      "source": [
        "alunos_df.info()"
      ],
      "execution_count": null,
      "outputs": [
        {
          "output_type": "stream",
          "text": [
            "<class 'pandas.core.frame.DataFrame'>\n",
            "RangeIndex: 4 entries, 0 to 3\n",
            "Data columns (total 3 columns):\n",
            " #   Column    Non-Null Count  Dtype  \n",
            "---  ------    --------------  -----  \n",
            " 0   nome      4 non-null      object \n",
            " 1   nota      4 non-null      float64\n",
            " 2   aprovado  4 non-null      object \n",
            "dtypes: float64(1), object(2)\n",
            "memory usage: 224.0+ bytes\n"
          ],
          "name": "stdout"
        }
      ]
    },
    {
      "cell_type": "markdown",
      "metadata": {
        "id": "gLw8bLOeNql-"
      },
      "source": [
        "##Manipulating rows"
      ]
    },
    {
      "cell_type": "code",
      "metadata": {
        "colab": {
          "base_uri": "https://localhost:8080/"
        },
        "id": "Lg7MGt4QQqFa",
        "outputId": "2d9ddd37-be9b-4a82-d38a-a753b5b14990"
      },
      "source": [
        "alunos_df.loc[2]"
      ],
      "execution_count": null,
      "outputs": [
        {
          "output_type": "execute_result",
          "data": {
            "text/plain": [
              "nome        gustavo\n",
              "nota            5.5\n",
              "aprovado        não\n",
              "Name: 2, dtype: object"
            ]
          },
          "metadata": {
            "tags": []
          },
          "execution_count": 5
        }
      ]
    },
    {
      "cell_type": "code",
      "metadata": {
        "colab": {
          "base_uri": "https://localhost:8080/",
          "height": 80
        },
        "id": "W8aqluL3OveK",
        "outputId": "47aa4684-6120-41b1-d2db-368f80252c37"
      },
      "source": [
        "alunos_df.loc[[2]]"
      ],
      "execution_count": null,
      "outputs": [
        {
          "output_type": "execute_result",
          "data": {
            "text/html": [
              "<div>\n",
              "<style scoped>\n",
              "    .dataframe tbody tr th:only-of-type {\n",
              "        vertical-align: middle;\n",
              "    }\n",
              "\n",
              "    .dataframe tbody tr th {\n",
              "        vertical-align: top;\n",
              "    }\n",
              "\n",
              "    .dataframe thead th {\n",
              "        text-align: right;\n",
              "    }\n",
              "</style>\n",
              "<table border=\"1\" class=\"dataframe\">\n",
              "  <thead>\n",
              "    <tr style=\"text-align: right;\">\n",
              "      <th></th>\n",
              "      <th>nome</th>\n",
              "      <th>nota</th>\n",
              "      <th>aprovado</th>\n",
              "    </tr>\n",
              "  </thead>\n",
              "  <tbody>\n",
              "    <tr>\n",
              "      <th>2</th>\n",
              "      <td>gustavo</td>\n",
              "      <td>5.5</td>\n",
              "      <td>não</td>\n",
              "    </tr>\n",
              "  </tbody>\n",
              "</table>\n",
              "</div>"
            ],
            "text/plain": [
              "      nome  nota aprovado\n",
              "2  gustavo   5.5      não"
            ]
          },
          "metadata": {
            "tags": []
          },
          "execution_count": 149
        }
      ]
    },
    {
      "cell_type": "code",
      "metadata": {
        "colab": {
          "base_uri": "https://localhost:8080/",
          "height": 111
        },
        "id": "m3d-wNHHO_Lr",
        "outputId": "bb917e06-a7de-4c65-ce41-6aee830cd50f"
      },
      "source": [
        "alunos_df.loc[0:1]"
      ],
      "execution_count": null,
      "outputs": [
        {
          "output_type": "execute_result",
          "data": {
            "text/html": [
              "<div>\n",
              "<style scoped>\n",
              "    .dataframe tbody tr th:only-of-type {\n",
              "        vertical-align: middle;\n",
              "    }\n",
              "\n",
              "    .dataframe tbody tr th {\n",
              "        vertical-align: top;\n",
              "    }\n",
              "\n",
              "    .dataframe thead th {\n",
              "        text-align: right;\n",
              "    }\n",
              "</style>\n",
              "<table border=\"1\" class=\"dataframe\">\n",
              "  <thead>\n",
              "    <tr style=\"text-align: right;\">\n",
              "      <th></th>\n",
              "      <th>nome</th>\n",
              "      <th>nota</th>\n",
              "      <th>aprovado</th>\n",
              "    </tr>\n",
              "  </thead>\n",
              "  <tbody>\n",
              "    <tr>\n",
              "      <th>0</th>\n",
              "      <td>ricardo</td>\n",
              "      <td>4.0</td>\n",
              "      <td>não</td>\n",
              "    </tr>\n",
              "    <tr>\n",
              "      <th>1</th>\n",
              "      <td>paulo</td>\n",
              "      <td>7.0</td>\n",
              "      <td>sim</td>\n",
              "    </tr>\n",
              "  </tbody>\n",
              "</table>\n",
              "</div>"
            ],
            "text/plain": [
              "      nome  nota aprovado\n",
              "0  ricardo   4.0      não\n",
              "1    paulo   7.0      sim"
            ]
          },
          "metadata": {
            "tags": []
          },
          "execution_count": 151
        }
      ]
    },
    {
      "cell_type": "code",
      "metadata": {
        "colab": {
          "base_uri": "https://localhost:8080/",
          "height": 80
        },
        "id": "SPruNbIjQGFF",
        "outputId": "baac637c-acf5-4ede-fe3e-c2560c97a284"
      },
      "source": [
        "alunos_df.loc[alunos_df['nome']=='julia']"
      ],
      "execution_count": null,
      "outputs": [
        {
          "output_type": "execute_result",
          "data": {
            "text/html": [
              "<div>\n",
              "<style scoped>\n",
              "    .dataframe tbody tr th:only-of-type {\n",
              "        vertical-align: middle;\n",
              "    }\n",
              "\n",
              "    .dataframe tbody tr th {\n",
              "        vertical-align: top;\n",
              "    }\n",
              "\n",
              "    .dataframe thead th {\n",
              "        text-align: right;\n",
              "    }\n",
              "</style>\n",
              "<table border=\"1\" class=\"dataframe\">\n",
              "  <thead>\n",
              "    <tr style=\"text-align: right;\">\n",
              "      <th></th>\n",
              "      <th>nome</th>\n",
              "      <th>nota</th>\n",
              "      <th>aprovado</th>\n",
              "    </tr>\n",
              "  </thead>\n",
              "  <tbody>\n",
              "    <tr>\n",
              "      <th>3</th>\n",
              "      <td>julia</td>\n",
              "      <td>9.0</td>\n",
              "      <td>sim</td>\n",
              "    </tr>\n",
              "  </tbody>\n",
              "</table>\n",
              "</div>"
            ],
            "text/plain": [
              "    nome  nota aprovado\n",
              "3  julia   9.0      sim"
            ]
          },
          "metadata": {
            "tags": []
          },
          "execution_count": 152
        }
      ]
    },
    {
      "cell_type": "code",
      "metadata": {
        "id": "AFuHqyEv4toV",
        "colab": {
          "base_uri": "https://localhost:8080/"
        },
        "outputId": "82e36ffe-cde1-4ed6-d776-b4bfa1bd3bc6"
      },
      "source": [
        "alunosreprovados = alunos_df.loc[alunos_df['nota'] !=9 ]\n",
        "print(alunosreprovados)"
      ],
      "execution_count": null,
      "outputs": [
        {
          "output_type": "stream",
          "text": [
            "      nome  nota aprovado\n",
            "0  ricardo   4.0      não\n",
            "1    paulo   7.0      sim\n",
            "2  gustavo   5.5      não\n"
          ],
          "name": "stdout"
        }
      ]
    },
    {
      "cell_type": "code",
      "metadata": {
        "colab": {
          "base_uri": "https://localhost:8080/"
        },
        "id": "U_Rr1t5j70dd",
        "outputId": "e255b9a5-3415-4734-9cb6-47f7f0cf777d"
      },
      "source": [
        "alunosreprovados2 = alunos_df.loc[alunos_df['nota'] <=6]\n",
        "print(alunosreprovados2)"
      ],
      "execution_count": null,
      "outputs": [
        {
          "output_type": "stream",
          "text": [
            "      nome  nota aprovado\n",
            "0  ricardo   4.0      não\n",
            "2  gustavo   5.5      não\n"
          ],
          "name": "stdout"
        }
      ]
    },
    {
      "cell_type": "code",
      "metadata": {
        "id": "KflIhUF7Ac2K"
      },
      "source": [
        "#counting rows\n",
        "len(alunos_df)"
      ],
      "execution_count": null,
      "outputs": []
    },
    {
      "cell_type": "markdown",
      "metadata": {
        "id": "7BmPJTq_8TDI"
      },
      "source": [
        "##Manipulating columns"
      ]
    },
    {
      "cell_type": "code",
      "metadata": {
        "colab": {
          "base_uri": "https://localhost:8080/"
        },
        "id": "e8Gj-GRvNxoJ",
        "outputId": "db3788a9-d4fd-4971-f3b5-bcb020d26f77"
      },
      "source": [
        "alunos_df['nome']"
      ],
      "execution_count": null,
      "outputs": [
        {
          "output_type": "execute_result",
          "data": {
            "text/plain": [
              "0    ricardo\n",
              "1      paulo\n",
              "2    gustavo\n",
              "3      julia\n",
              "Name: nome, dtype: object"
            ]
          },
          "metadata": {
            "tags": []
          },
          "execution_count": 147
        }
      ]
    },
    {
      "cell_type": "code",
      "metadata": {
        "colab": {
          "base_uri": "https://localhost:8080/"
        },
        "id": "TQdWfRDp-SQL",
        "outputId": "3e4d3ddf-e115-4202-f2e9-f2e1542c9737"
      },
      "source": [
        "#defing a var with a column return a pandas.Series type\n",
        "notas = alunos_df['nota']\n",
        "print(notas, type(notas))"
      ],
      "execution_count": null,
      "outputs": [
        {
          "output_type": "stream",
          "text": [
            "0    4.0\n",
            "1    7.0\n",
            "2    5.5\n",
            "3    9.0\n",
            "Name: nota, dtype: float64 <class 'pandas.core.series.Series'>\n"
          ],
          "name": "stdout"
        }
      ]
    },
    {
      "cell_type": "code",
      "metadata": {
        "colab": {
          "base_uri": "https://localhost:8080/"
        },
        "id": "-KZem8G-AT-O",
        "outputId": "79f80e0d-1f1e-4759-de38-a0bc7c7431b4"
      },
      "source": [
        "#counting values\n",
        "alunos_df['aprovado'].value_counts()"
      ],
      "execution_count": null,
      "outputs": [
        {
          "output_type": "execute_result",
          "data": {
            "text/plain": [
              "não    2\n",
              "sim    2\n",
              "Name: aprovado, dtype: int64"
            ]
          },
          "metadata": {
            "tags": []
          },
          "execution_count": 31
        }
      ]
    },
    {
      "cell_type": "markdown",
      "metadata": {
        "id": "i0nUtlIx92k8"
      },
      "source": [
        "###Renaming columns"
      ]
    },
    {
      "cell_type": "code",
      "metadata": {
        "id": "RMgfTCKrBqYe"
      },
      "source": [
        "alunos_df1 = alunos_df.rename(columns={'nome' : 'Alunos','nota': 'Nota', 'aprovado': 'Aprovado'})"
      ],
      "execution_count": null,
      "outputs": []
    },
    {
      "cell_type": "markdown",
      "metadata": {
        "id": "cwLAdeMJ78gB"
      },
      "source": [
        "###Deleting columns (drop())"
      ]
    },
    {
      "cell_type": "code",
      "metadata": {
        "colab": {
          "base_uri": "https://localhost:8080/",
          "height": 173
        },
        "id": "O-rT2tpJBvvT",
        "outputId": "e6d4f354-b305-4653-88a1-398391351d62"
      },
      "source": [
        "alunos_df1.drop('Aprovado', axis = 1)"
      ],
      "execution_count": null,
      "outputs": [
        {
          "output_type": "execute_result",
          "data": {
            "text/html": [
              "<div>\n",
              "<style scoped>\n",
              "    .dataframe tbody tr th:only-of-type {\n",
              "        vertical-align: middle;\n",
              "    }\n",
              "\n",
              "    .dataframe tbody tr th {\n",
              "        vertical-align: top;\n",
              "    }\n",
              "\n",
              "    .dataframe thead th {\n",
              "        text-align: right;\n",
              "    }\n",
              "</style>\n",
              "<table border=\"1\" class=\"dataframe\">\n",
              "  <thead>\n",
              "    <tr style=\"text-align: right;\">\n",
              "      <th></th>\n",
              "      <th>Alunos</th>\n",
              "      <th>Nota</th>\n",
              "    </tr>\n",
              "  </thead>\n",
              "  <tbody>\n",
              "    <tr>\n",
              "      <th>0</th>\n",
              "      <td>ricardo</td>\n",
              "      <td>4.0</td>\n",
              "    </tr>\n",
              "    <tr>\n",
              "      <th>1</th>\n",
              "      <td>paulo</td>\n",
              "      <td>7.0</td>\n",
              "    </tr>\n",
              "    <tr>\n",
              "      <th>2</th>\n",
              "      <td>gustavo</td>\n",
              "      <td>5.5</td>\n",
              "    </tr>\n",
              "    <tr>\n",
              "      <th>3</th>\n",
              "      <td>julia</td>\n",
              "      <td>9.0</td>\n",
              "    </tr>\n",
              "  </tbody>\n",
              "</table>\n",
              "</div>"
            ],
            "text/plain": [
              "    Alunos  Nota\n",
              "0  ricardo   4.0\n",
              "1    paulo   7.0\n",
              "2  gustavo   5.5\n",
              "3    julia   9.0"
            ]
          },
          "metadata": {
            "tags": []
          },
          "execution_count": 39
        }
      ]
    },
    {
      "cell_type": "markdown",
      "metadata": {
        "id": "y_7gPSrbERrN"
      },
      "source": [
        "##Dealing with NaN"
      ]
    },
    {
      "cell_type": "code",
      "metadata": {
        "id": "muxbhDgFVaG2"
      },
      "source": [
        "import missingno as msno\n",
        "msno.matrix(df)"
      ],
      "execution_count": null,
      "outputs": []
    },
    {
      "cell_type": "code",
      "metadata": {
        "id": "4sa5svXrCJ9f"
      },
      "source": [
        "# Dropna() deletes the rows with NaN cells\n",
        "df.dropna()"
      ],
      "execution_count": null,
      "outputs": []
    },
    {
      "cell_type": "code",
      "metadata": {
        "id": "j_GX8ojrG4so"
      },
      "source": [
        "#isnull() returns a df with \"True\" and \"False\" if each field contains NaN values\n",
        "enulo = df.isnull() \n",
        "\n",
        "# sum() here act as an aggregate function, returning how many fields of each column is NaN\n",
        "faltantes = df.isnull().sum()\n",
        "\n",
        "# we can see how much (%) of each column is missing \n",
        "faltantes_percentual = (df.isnull().sum() / len(df.iloc[:,0])*100)"
      ],
      "execution_count": null,
      "outputs": []
    },
    {
      "cell_type": "code",
      "metadata": {
        "id": "1X1ObIreO6op"
      },
      "source": [
        "# fillna() fills the NaN fields, in this example, with the median value for the column in question\n",
        "df['col_name'].fillna(df['col_name'].median(axis=0), inplace = True)\n",
        "\n",
        "# filling NaN fields with 0\n",
        "df['col2_data'].fillna(0, inplace = True)"
      ],
      "execution_count": null,
      "outputs": []
    },
    {
      "cell_type": "markdown",
      "metadata": {
        "id": "pKb8fBhPaVRE"
      },
      "source": [
        "# Input\n",
        "\n",
        "input() always return a str. If you want to make numerical comparisons, use int() to transform the input"
      ]
    },
    {
      "cell_type": "code",
      "metadata": {
        "colab": {
          "base_uri": "https://localhost:8080/",
          "height": 52
        },
        "id": "199olcVsSR1y",
        "outputId": "c8e84abb-b59e-431f-a6cb-410885880544"
      },
      "source": [
        "a = input(\"digita coisa aí: \")\n",
        "a"
      ],
      "execution_count": null,
      "outputs": [
        {
          "output_type": "stream",
          "text": [
            "digita coisa aí: tico\n"
          ],
          "name": "stdout"
        },
        {
          "output_type": "execute_result",
          "data": {
            "application/vnd.google.colaboratory.intrinsic+json": {
              "type": "string"
            },
            "text/plain": [
              "'tico'"
            ]
          },
          "metadata": {
            "tags": []
          },
          "execution_count": 57
        }
      ]
    },
    {
      "cell_type": "markdown",
      "metadata": {
        "id": "7ycm8K25Pe8u"
      },
      "source": [
        "#Flag\n",
        "\n",
        "for a program that should run as long as many conditions are true, you can define a single variable that determines whether or not the entire program is active"
      ]
    },
    {
      "cell_type": "code",
      "metadata": {
        "colab": {
          "base_uri": "https://localhost:8080/"
        },
        "id": "Z0wuJRC4XK0l",
        "outputId": "01ef9eb9-9c98-409f-e96f-00776de09021"
      },
      "source": [
        "active = True     # when the flag named active turns to false, \n",
        "while active:     # the program will finish the code and close without any further loops\n",
        "  message = input(\"\\nwhat's you name? \")\n",
        "\n",
        "  if message == 'quit':\n",
        "    active = False\n",
        "  else:\n",
        "    print(\"Hi, {}!\".format(message))\n",
        "\n",
        "print('by!')"
      ],
      "execution_count": null,
      "outputs": [
        {
          "output_type": "stream",
          "text": [
            "\n",
            "what's you name? tico\n",
            "Hi, tico!\n",
            "\n",
            "what's you name? quit\n",
            "by!\n"
          ],
          "name": "stdout"
        }
      ]
    },
    {
      "cell_type": "code",
      "metadata": {
        "colab": {
          "base_uri": "https://localhost:8080/"
        },
        "id": "qe5KzA6PWWMQ",
        "outputId": "d52dcd2c-264c-47a2-b25f-54e44e970faf"
      },
      "source": [
        "active = True\n",
        "while active:\n",
        "  topping = input(\"\\nWhat topping do you want: \")\n",
        "  \n",
        "  if topping == 'quit':\n",
        "    active = False\n",
        "  else:\n",
        "    print(f\"we're adding {topping.title()} to your order!\")"
      ],
      "execution_count": null,
      "outputs": [
        {
          "output_type": "stream",
          "text": [
            "\n",
            "What topping do you want: brocoli\n",
            "we're adding Brocoli to your order!\n",
            "\n",
            "What topping do you want: quit\n"
          ],
          "name": "stdout"
        }
      ]
    },
    {
      "cell_type": "markdown",
      "metadata": {
        "id": "120xsqLjTP9p"
      },
      "source": [
        "#Break and Continue\n",
        "\n",
        "to exit a `while` loop immediately without running any remaining code in the loop, we can use `break` statement\n",
        "\n",
        "Rather than breaking the loop, `continue`tells python to ignore the rest of the code block inside a loop and go back to the start of the loop"
      ]
    },
    {
      "cell_type": "code",
      "metadata": {
        "colab": {
          "base_uri": "https://localhost:8080/"
        },
        "id": "eieTrVytTR7Q",
        "outputId": "e10a0e00-ba8c-402c-a67c-429e9b3211ab"
      },
      "source": [
        "#Break example\n",
        "while True:\n",
        "  city = input('\\nWhere are you from? ')\n",
        "\n",
        "  if city == 'quit':\n",
        "    break\n",
        "    print('by!') #this line won't be read by python because it's after a break\n",
        "  else:\n",
        "    print(f\"I'd love to go to {city.title()}\")"
      ],
      "execution_count": null,
      "outputs": [
        {
          "output_type": "stream",
          "text": [
            "\n",
            "Where are you from? Manhumirim\n",
            "I'd love to go to Manhumirim\n",
            "\n",
            "Where are you from? quit\n"
          ],
          "name": "stdout"
        }
      ]
    },
    {
      "cell_type": "code",
      "metadata": {
        "colab": {
          "base_uri": "https://localhost:8080/"
        },
        "id": "nenWByXXQmMh",
        "outputId": "e388e3e9-b288-4b81-b3f1-455ff9f367f6"
      },
      "source": [
        "#Continue Example\n",
        "current_number = 0\n",
        "odd_numbers_list = []\n",
        "\n",
        "last_odd1 = input('odd numbers until: \\n')\n",
        "\n",
        "while current_number < int(last_odd1):\n",
        "  current_number += 1\n",
        "  if current_number % 2 ==0:\n",
        "    continue\n",
        "    print(\"laláaaa\")  #this line of code won't be read by python because it's after continue in same identation\n",
        "\n",
        "  odd_numbers_list.append(current_number)\n",
        "\n",
        "print(odd_numbers_list)"
      ],
      "execution_count": null,
      "outputs": [
        {
          "output_type": "stream",
          "text": [
            "odd numbers until: \n",
            "15\n",
            "[1, 3, 5, 7, 9, 11, 13, 15]\n"
          ],
          "name": "stdout"
        }
      ]
    },
    {
      "cell_type": "markdown",
      "metadata": {
        "id": "4_kPFEMXfpYA"
      },
      "source": [
        "#Functions\n",
        "\n",
        "There are 3 types of arguments:\n",
        "- Positional argument\n",
        "- keyword argument\n",
        "- lists, dictionarys and values\n",
        "\n",
        "When using default values, any parameter with a default value needs to be listed after all the parameters thar don't have dafault values. This allows python to continue interpreting posicional arguments correctly"
      ]
    },
    {
      "cell_type": "markdown",
      "metadata": {
        "id": "mMItWt5NEovh"
      },
      "source": [
        "#Class"
      ]
    },
    {
      "cell_type": "code",
      "metadata": {
        "id": "9xS0fW2fQEU5"
      },
      "source": [
        "class Car:\n",
        "\n",
        "  def __init__(self, model, maker, year):\n",
        "    \"\"\"initialize atributes to describe a car\"\"\"\n",
        "    self.model = model\n",
        "    self.maker = maker\n",
        "    self.year = year\n",
        "    self.odometer_reading = 0  #default value of 0\n",
        "  \n",
        "  def get_descriptive_name(self):\n",
        "    \"\"\"returns a mneatly formatted descriptive name\"\"\"\n",
        "    long_name = f'{self.year} {self.maker} {self.model}'\n",
        "    return long_name.title()\n",
        "  \n",
        "  def read_odometer(self):\n",
        "    \"\"\"print a statement showing the car's mileage\"\"\"\n",
        "    print(f'this car has {self.odometer_reading} miles on it')\n",
        "\n",
        "  def update_odometer(self, mileage):\n",
        "    \"\"\"\n",
        "    set the odometer reading to the given value\n",
        "    if the new value is higher than the previous\n",
        "    \"\"\"\n",
        "    if mileage >= self.odometer_reading:\n",
        "      self.odometer_reading = mileage\n",
        "    else:\n",
        "      print(\"don't you dare to roll back that odemeter! \\n\")\n",
        "  \n",
        "  def increase_odometer(self, miles):\n",
        "    \"\"\" increase the odometer reading\"\"\"\n",
        "    if miles > 0:\n",
        "      self.odometer_reading += miles\n",
        "    else:\n",
        "      print(\"don't you dare to roll back that odemeter! \\n\")"
      ],
      "execution_count": null,
      "outputs": []
    },
    {
      "cell_type": "code",
      "metadata": {
        "colab": {
          "base_uri": "https://localhost:8080/"
        },
        "id": "TibK3R5gRTlt",
        "outputId": "b063bfe9-a5bd-4004-aa07-f2ba92420f96"
      },
      "source": [
        "my_new_car= Car('a4','audi', 2019)\n",
        "print(my_new_car.get_descriptive_name())\n",
        "my_new_car.read_odometer()"
      ],
      "execution_count": null,
      "outputs": [
        {
          "output_type": "stream",
          "text": [
            "2019 Audi A4\n",
            "this car has 0 miles on it\n"
          ],
          "name": "stdout"
        }
      ]
    },
    {
      "cell_type": "markdown",
      "metadata": {
        "id": "sE_qPdU0P66b"
      },
      "source": [
        "\n",
        "##Attributes"
      ]
    },
    {
      "cell_type": "code",
      "metadata": {
        "id": "5URslHErZ2D3",
        "colab": {
          "base_uri": "https://localhost:8080/"
        },
        "outputId": "8737ba6e-4fdf-40c9-e2ac-c0d7e9031e6b"
      },
      "source": [
        "#modifying attribute values directy\n",
        "my_new_car.odometer_reading = 23\n",
        "my_new_car.read_odometer()"
      ],
      "execution_count": null,
      "outputs": [
        {
          "output_type": "stream",
          "text": [
            "this car has 23 miles on it\n"
          ],
          "name": "stdout"
        }
      ]
    },
    {
      "cell_type": "code",
      "metadata": {
        "colab": {
          "base_uri": "https://localhost:8080/"
        },
        "id": "7odMrXhjS-GC",
        "outputId": "24e7ae19-6cf5-45c1-b0a7-d3f96760e37b"
      },
      "source": [
        "#modifying attribute value through a method()\n",
        "my_new_car.update_odometer(36)\n",
        "my_new_car.read_odometer()\n",
        "\n",
        "print(\"\"\" \n",
        "\"\"\")\n",
        "\n",
        "#testing rolling back the odemeter\n",
        "my_new_car.update_odometer(22)\n",
        "my_new_car.read_odometer()\n"
      ],
      "execution_count": null,
      "outputs": [
        {
          "output_type": "stream",
          "text": [
            "this car has 36 miles on it\n",
            " \n",
            "\n",
            "don't you dare to roll back that odemeter! \n",
            "\n",
            "this car has 36 miles on it\n"
          ],
          "name": "stdout"
        }
      ]
    },
    {
      "cell_type": "code",
      "metadata": {
        "colab": {
          "base_uri": "https://localhost:8080/"
        },
        "id": "sRNwBnI4T7SE",
        "outputId": "1e3932ad-57bf-44a1-913d-7e5abb959c4d"
      },
      "source": [
        "my_new_car.increase_odometer(23000)\n",
        "my_new_car.read_odometer()"
      ],
      "execution_count": null,
      "outputs": [
        {
          "output_type": "stream",
          "text": [
            "this car has 23036 miles on it\n"
          ],
          "name": "stdout"
        }
      ]
    },
    {
      "cell_type": "code",
      "metadata": {
        "id": "q27fMakKOL0E"
      },
      "source": [
        "<img src=\"//imgs.xkcd.com/comics/houseguests.png\" title=\"You can come on in, we're all fully vaccinated. Except the spare room off the living room. Don't go in there, we're not fully vaccinated in there.\" alt=\"Houseguests\" srcset=\"//imgs.xkcd.com/comics/houseguests_2x.png 2x\" style=\"image-orientation:none\">"
      ],
      "execution_count": null,
      "outputs": []
    },
    {
      "cell_type": "markdown",
      "metadata": {
        "id": "c930bwAorYGc"
      },
      "source": [
        "#Boxplot"
      ]
    },
    {
      "cell_type": "code",
      "metadata": {
        "id": "i--1D2pmrZnO"
      },
      "source": [
        "df.boxplot(column = 'coluna')"
      ],
      "execution_count": null,
      "outputs": []
    }
  ]
}